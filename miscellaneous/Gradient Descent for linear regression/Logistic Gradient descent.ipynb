{
 "cells": [
  {
   "cell_type": "code",
   "execution_count": 2,
   "id": "cae627ac",
   "metadata": {},
   "outputs": [],
   "source": [
    "import numpy as np\n",
    "#import pandas as pd    #  Mostly not needed, numpy has all the required functionalities\n",
    "import matplotlib.pyplot as plt"
   ]
  },
  {
   "cell_type": "code",
   "execution_count": 36,
   "id": "87635084",
   "metadata": {},
   "outputs": [
    {
     "name": "stdout",
     "output_type": "stream",
     "text": [
      "[[2.82248374]\n",
      " [1.79648492]]\n"
     ]
    }
   ],
   "source": [
    "x = np.random.normal(0, 1, 1000)\n",
    "y = np.array(np.random.binomial(1, 1/(1+np.exp(3+2*x)), 1000)).reshape((1000, 1))\n",
    "\n",
    "n = len(x) # Number of elements in X\n",
    "X = np.column_stack((np.repeat(1, n), x))\n",
    "\n",
    "\n",
    "# Initialization\n",
    "n = np.shape(X)[0]\n",
    "p = np.shape(X)[1]\n",
    "\n",
    "L = 0.1  # The learning Rate\n",
    "\n",
    "Total_itr = 10000  # The number of iterations to perform gradient descent\n",
    "\n",
    "beta = np.zeros((p,1))\n",
    "\n",
    "Xb = X.dot(beta)\n",
    "\n",
    "pvec = np.array(1/(1+np.exp(Xb)))\n",
    "\n",
    "ind0 = 1*(Xb > 20)\n",
    "ind1 = 1*(Xb < - 20)\n",
    "\n",
    "if(np.sum(ind0)):\n",
    "    pvec[ind0==1] = 0.00000001\n",
    "if(np.sum(ind1)):  \n",
    "    pvec[ind1==1] = 0.99999999\n",
    "\n",
    "lossold = -np.sum(np.multiply(y,np.log(pvec))+np.multiply((1-y), np.log(1-pvec)))/n\n",
    "lossnew = lossold\n",
    "\n",
    "alpha = 0\n",
    "\n",
    "lossvec = np.zeros((Total_itr,1))\n",
    "\n",
    "# Performing Gradient Descent \n",
    "for itr in range(Total_itr): \n",
    "    beta0 =beta\n",
    "    lossold = lossnew\n",
    "    \n",
    "    derivbeta =  np.array((1/n)*np.dot(np.transpose(X), y-pvec))\n",
    "    beta = beta0 - L*derivbeta\n",
    "    \n",
    "    Xb = X.dot(beta)\n",
    "    ind0 = 1*(Xb > 20)\n",
    "    ind1 = 1*(Xb < - 20)\n",
    "    \n",
    "    pvec = 1/(1+np.exp(Xb)) # Update the probability with new beta\n",
    "    \n",
    "    if(np.sum(ind0)):\n",
    "        pvec[ind0==1] = 0.00000001\n",
    "    if(np.sum(ind1)):  \n",
    "        pvec[ind1==1] = 0.99999999\n",
    "        \n",
    "    lossnew = -np.sum(np.multiply(y,np.log(pvec))+np.multiply((1-y), np.log(1-pvec)))/n\n",
    "    \n",
    "    L1 = L\n",
    "    changeL = 0\n",
    "    \n",
    "    # Implementation of Section 5.2 from the notes \n",
    "    while(lossnew > lossold -alpha * L1*np.sum(derivbeta**2)):\n",
    "        changeL = changeL + 1\n",
    "        L1 = L1/2 #Reducing the step size\n",
    "        \n",
    "        beta = beta0 - L1*derivbeta\n",
    "    \n",
    "        Xb = X.dot(beta)\n",
    "        ind0 = 1*(Xb > 20)\n",
    "        ind1 = 1*(Xb < - 20)\n",
    "    \n",
    "        pvec = 1/(1+np.exp(Xb)) # Update the probability with new beta\n",
    "    \n",
    "        if(np.sum(ind0)):\n",
    "            pvec[ind0==1] = 0.00000001\n",
    "        if(np.sum(ind1)):  \n",
    "            pvec[ind1==1] = 0.99999999\n",
    "            \n",
    "        lossnew = -np.sum(np.multiply(y,np.log(pvec))+np.multiply((1-y), np.log(1-pvec)))/n\n",
    "        \n",
    "        if(changeL > 20):\n",
    "            beta = beta0 #Could not update, so old value reassigned\n",
    "            break;\n",
    "    lossvec[itr] = lossold\n",
    "print (beta)"
   ]
  },
  {
   "cell_type": "code",
   "execution_count": 37,
   "id": "47e128d9",
   "metadata": {},
   "outputs": [
    {
     "data": {
      "text/plain": [
       "[<matplotlib.lines.Line2D at 0x2146a8b2310>]"
      ]
     },
     "execution_count": 37,
     "metadata": {},
     "output_type": "execute_result"
    },
    {
     "data": {
      "image/png": "[encoded data removed]",
      "text/plain": [
       "<Figure size 432x288 with 1 Axes>"
      ]
     },
     "metadata": {
      "needs_background": "light"
     },
     "output_type": "display_data"
    }
   ],
   "source": [
    "plt.plot(lossvec)"
   ]
  },
  {
   "cell_type": "code",
   "execution_count": null,
   "id": "05386e12",
   "metadata": {},
   "outputs": [],
   "source": []
  }
 ],
 "metadata": {
  "kernelspec": {
   "display_name": "Python 3 (ipykernel)",
   "language": "python",
   "name": "python3"
  },
  "language_info": {
   "codemirror_mode": {
    "name": "ipython",
    "version": 3
   },
   "file_extension": ".py",
   "mimetype": "text/x-python",
   "name": "python",
   "nbconvert_exporter": "python",
   "pygments_lexer": "ipython3",
   "version": "3.9.7"
  }
 },
 "nbformat": 4,
 "nbformat_minor": 5
}
